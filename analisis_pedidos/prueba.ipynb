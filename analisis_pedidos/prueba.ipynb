{
 "cells": [
  {
   "cell_type": "code",
   "execution_count": null,
   "metadata": {},
   "outputs": [],
   "source": [
    "import plotly.express as px\n",
    "import pandas as pd\n",
    "\n",
    "data = {\n",
    "    \"Producto\": [\"A\", \"B\", \"C\", \"D\"],\n",
    "    \"Stock\": [100, 50, 10, 5],\n",
    "    \"Precio\": [20.5, 15.0, 30.0, 25.0]\n",
    "}\n",
    "\n",
    "df = pd.DataFrame(data)\n",
    "\n",
    "fig = px.bar(df, x=\"Producto\", y=\"Stock\", color=\"Stock\", color_continuous_scale=\"reds\")\n",
    "fig.show()\n",
    "\n"
   ]
  }
 ],
 "metadata": {
  "kernelspec": {
   "display_name": "validacion_pedidos",
   "language": "python",
   "name": "python3"
  },
  "language_info": {
   "name": "python",
   "version": "3.12.7"
  }
 },
 "nbformat": 4,
 "nbformat_minor": 2
}
